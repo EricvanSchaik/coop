{
 "cells": [
  {
   "cell_type": "code",
   "execution_count": 1,
   "metadata": {},
   "outputs": [],
   "source": [
    "from typing import List\n",
    "import torch\n",
    "from coop import VAE, util\n",
    "\n",
    "import json\n",
    "import pandas as pd\n",
    "import rouge"
   ]
  },
  {
   "cell_type": "code",
   "execution_count": 7,
   "metadata": {},
   "outputs": [
    {
     "name": "stderr",
     "output_type": "stream",
     "text": [
      "c:\\Users\\ERSCHAIK\\Miniconda3\\envs\\coop\\lib\\site-packages\\huggingface_hub\\file_download.py:591: FutureWarning: `cached_download` is the legacy way to download files from the HF hub, please consider upgrading to `hf_hub_download`\n",
      "  FutureWarning,\n"
     ]
    },
    {
     "data": {
      "application/vnd.jupyter.widget-view+json": {
       "model_id": "01430a52a2754e4fb3209f9c1104bc27",
       "version_major": 2,
       "version_minor": 0
      },
      "text/plain": [
       "Downloading:   0%|          | 0.00/197 [00:00<?, ?B/s]"
      ]
     },
     "metadata": {},
     "output_type": "display_data"
    },
    {
     "data": {
      "application/vnd.jupyter.widget-view+json": {
       "model_id": "39c37532bdc642cf8c4452686966e1bc",
       "version_major": 2,
       "version_minor": 0
      },
      "text/plain": [
       "Downloading:   0%|          | 0.00/967M [00:00<?, ?B/s]"
      ]
     },
     "metadata": {},
     "output_type": "display_data"
    },
    {
     "data": {
      "application/vnd.jupyter.widget-view+json": {
       "model_id": "80727b61636c41d9961521bd4065f8b2",
       "version_major": 2,
       "version_minor": 0
      },
      "text/plain": [
       "Downloading:   0%|          | 0.00/213k [00:00<?, ?B/s]"
      ]
     },
     "metadata": {},
     "output_type": "display_data"
    },
    {
     "data": {
      "application/vnd.jupyter.widget-view+json": {
       "model_id": "2655d0481cc640a7b150505286edf129",
       "version_major": 2,
       "version_minor": 0
      },
      "text/plain": [
       "Downloading:   0%|          | 0.00/436k [00:00<?, ?B/s]"
      ]
     },
     "metadata": {},
     "output_type": "display_data"
    },
    {
     "data": {
      "application/vnd.jupyter.widget-view+json": {
       "model_id": "95aaba757fb241a388802f4778025840",
       "version_major": 2,
       "version_minor": 0
      },
      "text/plain": [
       "Downloading:   0%|          | 0.00/1.04M [00:00<?, ?B/s]"
      ]
     },
     "metadata": {},
     "output_type": "display_data"
    },
    {
     "data": {
      "application/vnd.jupyter.widget-view+json": {
       "model_id": "0575649fd17e434aada9e5d7a1600ec3",
       "version_major": 2,
       "version_minor": 0
      },
      "text/plain": [
       "Downloading:   0%|          | 0.00/456k [00:00<?, ?B/s]"
      ]
     },
     "metadata": {},
     "output_type": "display_data"
    },
    {
     "data": {
      "application/vnd.jupyter.widget-view+json": {
       "model_id": "584fb75343aa4346b68aa22be60d1e7b",
       "version_major": 2,
       "version_minor": 0
      },
      "text/plain": [
       "Downloading:   0%|          | 0.00/1.36M [00:00<?, ?B/s]"
      ]
     },
     "metadata": {},
     "output_type": "display_data"
    },
    {
     "data": {
      "application/vnd.jupyter.widget-view+json": {
       "model_id": "b1e34c380b2d4710a9fadfeaeb25e7f6",
       "version_major": 2,
       "version_minor": 0
      },
      "text/plain": [
       "Downloading:   0%|          | 0.00/433 [00:00<?, ?B/s]"
      ]
     },
     "metadata": {},
     "output_type": "display_data"
    },
    {
     "data": {
      "application/vnd.jupyter.widget-view+json": {
       "model_id": "32852a518d104829afc18d6226038892",
       "version_major": 2,
       "version_minor": 0
      },
      "text/plain": [
       "Downloading:   0%|          | 0.00/436M [00:00<?, ?B/s]"
      ]
     },
     "metadata": {},
     "output_type": "display_data"
    }
   ],
   "source": [
    "model_name: str = \"megagonlabs/bimeanvae-yelp\"  # or \"megagonlabs/bimeanvae-amzn\", \"megagonlabs/optimus-yelp\", \"megagonlabs/optimus-amzn\"\n",
    "vae = VAE(model_name)"
   ]
  },
  {
   "cell_type": "code",
   "execution_count": 6,
   "metadata": {},
   "outputs": [
    {
     "name": "stdout",
     "output_type": "stream",
     "text": [
      "Here is one of my favorite ramen places! You must try this place!\n"
     ]
    }
   ],
   "source": [
    "reviews: List[str] = [\n",
    "    \"I love this ramen shop!! Highly recommended!!\",\n",
    "    \"Here is one of my favorite ramen places! You must try!\"\n",
    "]\n",
    "\n",
    "z_raw: torch.Tensor = vae.encode(reviews) # [num_reviews * latent_size]\n",
    "\n",
    "# All combinations of input reviews\n",
    "idxes: List[List[int]] = util.powerset(len(reviews))\n",
    "# Taking averages for all combinations of latent vectors\n",
    "zs: torch.Tensor = torch.stack([z_raw[idx].mean(dim=0) for idx in idxes]) # [2^num_reviews - 1 * latent_size]\n",
    "\n",
    "outputs: List[str] = vae.generate(zs)\n",
    "\n",
    "# Input-output overlap is measured by ROUGE-1 F1 score.\n",
    "best: str = max(outputs, key=lambda x: util.input_output_overlap(inputs=reviews, output=x))\n",
    "\n",
    "print(best)"
   ]
  },
  {
   "cell_type": "code",
   "execution_count": 4,
   "metadata": {},
   "outputs": [
    {
     "name": "stdout",
     "output_type": "stream",
     "text": [
      "I love this place, I've been to a lot of other places in Vegas and I've never had a bad experience. The people are so friendly and professional. I've been going here for over a year now and I've never had a bad experience. The only thing that I don't like is the fact that they do a great job of making you feel like you're being taken care of. It's a great place to go if you're looking for a relaxed and fun place to get some work done.\n"
     ]
    }
   ],
   "source": [
    "data = pd.read_json(\"./data/yelp/products_8_reviews.json\", orient='records')\n",
    "reviews = data[\"review_body\"].head(8).to_list()\n",
    "\n",
    "z_raw: torch.Tensor = vae.encode(reviews) # [num_reviews * latent_size]\n",
    "\n",
    "# All combinations of input reviews\n",
    "idxes: List[List[int]] = util.powerset(len(reviews))\n",
    "# Taking averages for all combinations of latent vectors\n",
    "zs: torch.Tensor = torch.stack([z_raw[idx].mean(dim=0) for idx in idxes]) # [2^num_reviews - 1 * latent_size]\n",
    "\n",
    "outputs: List[str] = vae.generate(zs)\n",
    "\n",
    "# Input-output overlap is measured by ROUGE-1 F1 score.\n",
    "best: str = max(outputs, key=lambda x: util.input_output_overlap(inputs=reviews, output=x))\n",
    "\n",
    "print(best)"
   ]
  },
  {
   "cell_type": "code",
   "execution_count": 5,
   "metadata": {},
   "outputs": [
    {
     "name": "stdout",
     "output_type": "stream",
     "text": [
      "I've been going to this location for a couple of years now and I love it. The staff is always friendly and the food is always good. I've never had a bad experience at this location. The only thing that I don't like about the place is that it's so small, but they have a lot of people working there. It's a great place to go if you're in the area and just want to get some work done.\n"
     ]
    }
   ],
   "source": [
    "reviews = data[\"review_body\"].tail(8).to_list()\n",
    "\n",
    "z_raw: torch.Tensor = vae.encode(reviews) # [num_reviews * latent_size]\n",
    "\n",
    "# All combinations of input reviews\n",
    "idxes: List[List[int]] = util.powerset(len(reviews))\n",
    "# Taking averages for all combinations of latent vectors\n",
    "zs: torch.Tensor = torch.stack([z_raw[idx].mean(dim=0) for idx in idxes]) # [2^num_reviews - 1 * latent_size]\n",
    "\n",
    "outputs: List[str] = vae.generate(zs)\n",
    "\n",
    "# Input-output overlap is measured by ROUGE-1 F1 score.\n",
    "best: str = max(outputs, key=lambda x: util.input_output_overlap(inputs=reviews, output=x))\n",
    "\n",
    "print(best)"
   ]
  }
 ],
 "metadata": {
  "kernelspec": {
   "display_name": "Python 3.7.12 ('coop')",
   "language": "python",
   "name": "python3"
  },
  "language_info": {
   "codemirror_mode": {
    "name": "ipython",
    "version": 3
   },
   "file_extension": ".py",
   "mimetype": "text/x-python",
   "name": "python",
   "nbconvert_exporter": "python",
   "pygments_lexer": "ipython3",
   "version": "3.7.12"
  },
  "orig_nbformat": 4,
  "vscode": {
   "interpreter": {
    "hash": "93a5c79d99e5e4f19efceea1f5081ebbeef0e183a5717ded4e686c7aa8ac0561"
   }
  }
 },
 "nbformat": 4,
 "nbformat_minor": 2
}
